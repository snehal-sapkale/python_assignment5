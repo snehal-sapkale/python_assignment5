{
 "cells": [
  {
   "cell_type": "markdown",
   "id": "d5fc077c",
   "metadata": {},
   "source": [
    "#### 1) Dataset: product-info.csv. \n",
    "#### Problem: Write a Python program to calculate the total sales, average sales price, and the standard deviation of sales prices. Additionally, identify the product with the highest and lowest average sales price. "
   ]
  },
  {
   "cell_type": "code",
   "execution_count": 9,
   "id": "3a4c6966",
   "metadata": {},
   "outputs": [
    {
     "name": "stdout",
     "output_type": "stream",
     "text": [
      "C:\\Users\\Snehal\\Desktop\\Data Science Training 2024\n"
     ]
    }
   ],
   "source": [
    "import os\n",
    "import pandas as pd\n",
    "import numpy as np\n",
    "import matplotlib.pyplot as plt\n",
    "\n",
    "print(os.getcwd())"
   ]
  },
  {
   "cell_type": "code",
   "execution_count": 11,
   "id": "554f90dd",
   "metadata": {},
   "outputs": [
    {
     "data": {
      "text/html": [
       "<div>\n",
       "<style scoped>\n",
       "    .dataframe tbody tr th:only-of-type {\n",
       "        vertical-align: middle;\n",
       "    }\n",
       "\n",
       "    .dataframe tbody tr th {\n",
       "        vertical-align: top;\n",
       "    }\n",
       "\n",
       "    .dataframe thead th {\n",
       "        text-align: right;\n",
       "    }\n",
       "</style>\n",
       "<table border=\"1\" class=\"dataframe\">\n",
       "  <thead>\n",
       "    <tr style=\"text-align: right;\">\n",
       "      <th></th>\n",
       "      <th>Product ID</th>\n",
       "      <th>Product Name</th>\n",
       "      <th>Price</th>\n",
       "      <th>Quantity Sold</th>\n",
       "      <th>Sales Date</th>\n",
       "    </tr>\n",
       "  </thead>\n",
       "  <tbody>\n",
       "    <tr>\n",
       "      <th>0</th>\n",
       "      <td>101</td>\n",
       "      <td>Blue Jeans</td>\n",
       "      <td>59.99</td>\n",
       "      <td>20</td>\n",
       "      <td>2023-12-15</td>\n",
       "    </tr>\n",
       "    <tr>\n",
       "      <th>1</th>\n",
       "      <td>102</td>\n",
       "      <td>Red Shirt</td>\n",
       "      <td>24.99</td>\n",
       "      <td>35</td>\n",
       "      <td>2023-12-20</td>\n",
       "    </tr>\n",
       "    <tr>\n",
       "      <th>2</th>\n",
       "      <td>103</td>\n",
       "      <td>Black Shoes</td>\n",
       "      <td>79.99</td>\n",
       "      <td>15</td>\n",
       "      <td>2023-12-25</td>\n",
       "    </tr>\n",
       "    <tr>\n",
       "      <th>3</th>\n",
       "      <td>104</td>\n",
       "      <td>Green Jacket</td>\n",
       "      <td>99.99</td>\n",
       "      <td>10</td>\n",
       "      <td>2023-12-30</td>\n",
       "    </tr>\n",
       "    <tr>\n",
       "      <th>4</th>\n",
       "      <td>105</td>\n",
       "      <td>White Sneakers</td>\n",
       "      <td>64.99</td>\n",
       "      <td>25</td>\n",
       "      <td>2024-01-05</td>\n",
       "    </tr>\n",
       "    <tr>\n",
       "      <th>5</th>\n",
       "      <td>106</td>\n",
       "      <td>Gray Pants</td>\n",
       "      <td>49.99</td>\n",
       "      <td>40</td>\n",
       "      <td>2024-01-10</td>\n",
       "    </tr>\n",
       "    <tr>\n",
       "      <th>6</th>\n",
       "      <td>107</td>\n",
       "      <td>Yellow Dress</td>\n",
       "      <td>39.99</td>\n",
       "      <td>30</td>\n",
       "      <td>2024-01-15</td>\n",
       "    </tr>\n",
       "    <tr>\n",
       "      <th>7</th>\n",
       "      <td>108</td>\n",
       "      <td>Brown Belt</td>\n",
       "      <td>19.99</td>\n",
       "      <td>50</td>\n",
       "      <td>2024-01-20</td>\n",
       "    </tr>\n",
       "    <tr>\n",
       "      <th>8</th>\n",
       "      <td>109</td>\n",
       "      <td>Purple Hat</td>\n",
       "      <td>14.99</td>\n",
       "      <td>60</td>\n",
       "      <td>2024-01-25</td>\n",
       "    </tr>\n",
       "    <tr>\n",
       "      <th>9</th>\n",
       "      <td>110</td>\n",
       "      <td>Orange Socks</td>\n",
       "      <td>9.99</td>\n",
       "      <td>75</td>\n",
       "      <td>2024-01-30</td>\n",
       "    </tr>\n",
       "  </tbody>\n",
       "</table>\n",
       "</div>"
      ],
      "text/plain": [
       "   Product ID    Product Name  Price  Quantity Sold  Sales Date\n",
       "0         101      Blue Jeans  59.99             20  2023-12-15\n",
       "1         102       Red Shirt  24.99             35  2023-12-20\n",
       "2         103     Black Shoes  79.99             15  2023-12-25\n",
       "3         104    Green Jacket  99.99             10  2023-12-30\n",
       "4         105  White Sneakers  64.99             25  2024-01-05\n",
       "5         106      Gray Pants  49.99             40  2024-01-10\n",
       "6         107    Yellow Dress  39.99             30  2024-01-15\n",
       "7         108      Brown Belt  19.99             50  2024-01-20\n",
       "8         109      Purple Hat  14.99             60  2024-01-25\n",
       "9         110    Orange Socks   9.99             75  2024-01-30"
      ]
     },
     "execution_count": 11,
     "metadata": {},
     "output_type": "execute_result"
    }
   ],
   "source": [
    "df= pd.read_csv(\"datasets//product-info.csv\")\n",
    "df"
   ]
  },
  {
   "cell_type": "code",
   "execution_count": null,
   "id": "de30437f",
   "metadata": {},
   "outputs": [],
   "source": [
    "# Gross Sales = Sum of all sales (Total units sold x Sales price per unit).\n",
    "# Sales Revenue = Units Sold x Sales Price"
   ]
  },
  {
   "cell_type": "code",
   "execution_count": 25,
   "id": "2f48bdd9",
   "metadata": {},
   "outputs": [
    {
     "data": {
      "text/plain": [
       "0    1199.80\n",
       "1     874.65\n",
       "2    1199.85\n",
       "3     999.90\n",
       "4    1624.75\n",
       "5    1999.60\n",
       "6    1199.70\n",
       "7     999.50\n",
       "8     899.40\n",
       "9     749.25\n",
       "dtype: float64"
      ]
     },
     "execution_count": 25,
     "metadata": {},
     "output_type": "execute_result"
    }
   ],
   "source": [
    "total_sales = df['Price'] * df['Quantity Sold']\n",
    "total_sales"
   ]
  },
  {
   "cell_type": "code",
   "execution_count": 23,
   "id": "2f1288a7",
   "metadata": {},
   "outputs": [
    {
     "name": "stdout",
     "output_type": "stream",
     "text": [
      "Total Sales:  11746.4\n",
      "Average Sales Price:  1174.6399999999999\n",
      "Standard Deviation of Sales Price:  379.0295186393799\n"
     ]
    }
   ],
   "source": [
    "print(\"Total Sales: \", total_sales.sum())\n",
    "print(\"Average Sales Price: \", total_sales.mean())\n",
    "print(\"Standard Deviation of Sales Price: \", total_sales.std())"
   ]
  },
  {
   "cell_type": "code",
   "execution_count": 28,
   "id": "98050fad",
   "metadata": {},
   "outputs": [
    {
     "data": {
      "text/plain": [
       "0    119.980\n",
       "1     87.465\n",
       "2    119.985\n",
       "3     99.990\n",
       "4    162.475\n",
       "5    199.960\n",
       "6    119.970\n",
       "7     99.950\n",
       "8     89.940\n",
       "9     74.925\n",
       "dtype: float64"
      ]
     },
     "execution_count": 28,
     "metadata": {},
     "output_type": "execute_result"
    }
   ],
   "source": [
    "#average selling price of a product = take the total revenue earned from the product/divide it by the number of products sold.\n",
    "avg_selling_price_product = total_sales/total_sales.count()\n",
    "avg_selling_price_product"
   ]
  },
  {
   "cell_type": "code",
   "execution_count": 43,
   "id": "30815990",
   "metadata": {},
   "outputs": [
    {
     "name": "stdout",
     "output_type": "stream",
     "text": [
      "product with max avg_selling_price: \n",
      " Product ID              106\n",
      "Product Name     Gray Pants\n",
      "Price                 49.99\n",
      "Quantity Sold            40\n",
      "Sales Date       2024-01-10\n",
      "Name: 5, dtype: object\n"
     ]
    }
   ],
   "source": [
    "print(\"Product with max avg_selling_price: \\n\", df.loc[avg_selling_price_product.idxmax()])"
   ]
  },
  {
   "cell_type": "code",
   "execution_count": 44,
   "id": "43360144",
   "metadata": {},
   "outputs": [
    {
     "name": "stdout",
     "output_type": "stream",
     "text": [
      "Product with min avg_selling_price: \n",
      " Product ID                110\n",
      "Product Name     Orange Socks\n",
      "Price                    9.99\n",
      "Quantity Sold              75\n",
      "Sales Date         2024-01-30\n",
      "Name: 9, dtype: object\n"
     ]
    }
   ],
   "source": [
    "print(\"Product with min avg_selling_price: \\n\", df.loc[avg_selling_price_product.idxmin()])"
   ]
  },
  {
   "cell_type": "markdown",
   "id": "e0acc21f",
   "metadata": {},
   "source": [
    "#### 2) Dataset: A CSV file customer-satisfaction.csv \n",
    "#### Problem: Create a Python program to calculate the mean, median, and mode of the satisfaction ratings. Analyze the data by grouping it by age groups and gender to identify any trends. "
   ]
  },
  {
   "cell_type": "code",
   "execution_count": 46,
   "id": "90fe0b9f",
   "metadata": {},
   "outputs": [
    {
     "ename": "FileNotFoundError",
     "evalue": "[Errno 2] No such file or directory: 'datasets//customer-satisfaction.csv'",
     "output_type": "error",
     "traceback": [
      "\u001b[1;31m---------------------------------------------------------------------------\u001b[0m",
      "\u001b[1;31mFileNotFoundError\u001b[0m                         Traceback (most recent call last)",
      "\u001b[1;32m~\\AppData\\Local\\Temp/ipykernel_2068/174420385.py\u001b[0m in \u001b[0;36m<module>\u001b[1;34m\u001b[0m\n\u001b[1;32m----> 1\u001b[1;33m \u001b[0mdf\u001b[0m\u001b[1;33m=\u001b[0m \u001b[0mpd\u001b[0m\u001b[1;33m.\u001b[0m\u001b[0mread_csv\u001b[0m\u001b[1;33m(\u001b[0m\u001b[1;34m\"datasets//customer-satisfaction.csv\"\u001b[0m\u001b[1;33m)\u001b[0m\u001b[1;33m\u001b[0m\u001b[1;33m\u001b[0m\u001b[0m\n\u001b[0m\u001b[0;32m      2\u001b[0m \u001b[0mdf\u001b[0m\u001b[1;33m\u001b[0m\u001b[1;33m\u001b[0m\u001b[0m\n",
      "\u001b[1;32mC:\\ProgramData\\Anaconda3\\lib\\site-packages\\pandas\\util\\_decorators.py\u001b[0m in \u001b[0;36mwrapper\u001b[1;34m(*args, **kwargs)\u001b[0m\n\u001b[0;32m    309\u001b[0m                     \u001b[0mstacklevel\u001b[0m\u001b[1;33m=\u001b[0m\u001b[0mstacklevel\u001b[0m\u001b[1;33m,\u001b[0m\u001b[1;33m\u001b[0m\u001b[1;33m\u001b[0m\u001b[0m\n\u001b[0;32m    310\u001b[0m                 )\n\u001b[1;32m--> 311\u001b[1;33m             \u001b[1;32mreturn\u001b[0m \u001b[0mfunc\u001b[0m\u001b[1;33m(\u001b[0m\u001b[1;33m*\u001b[0m\u001b[0margs\u001b[0m\u001b[1;33m,\u001b[0m \u001b[1;33m**\u001b[0m\u001b[0mkwargs\u001b[0m\u001b[1;33m)\u001b[0m\u001b[1;33m\u001b[0m\u001b[1;33m\u001b[0m\u001b[0m\n\u001b[0m\u001b[0;32m    312\u001b[0m \u001b[1;33m\u001b[0m\u001b[0m\n\u001b[0;32m    313\u001b[0m         \u001b[1;32mreturn\u001b[0m \u001b[0mwrapper\u001b[0m\u001b[1;33m\u001b[0m\u001b[1;33m\u001b[0m\u001b[0m\n",
      "\u001b[1;32mC:\\ProgramData\\Anaconda3\\lib\\site-packages\\pandas\\io\\parsers\\readers.py\u001b[0m in \u001b[0;36mread_csv\u001b[1;34m(filepath_or_buffer, sep, delimiter, header, names, index_col, usecols, squeeze, prefix, mangle_dupe_cols, dtype, engine, converters, true_values, false_values, skipinitialspace, skiprows, skipfooter, nrows, na_values, keep_default_na, na_filter, verbose, skip_blank_lines, parse_dates, infer_datetime_format, keep_date_col, date_parser, dayfirst, cache_dates, iterator, chunksize, compression, thousands, decimal, lineterminator, quotechar, quoting, doublequote, escapechar, comment, encoding, encoding_errors, dialect, error_bad_lines, warn_bad_lines, on_bad_lines, delim_whitespace, low_memory, memory_map, float_precision, storage_options)\u001b[0m\n\u001b[0;32m    584\u001b[0m     \u001b[0mkwds\u001b[0m\u001b[1;33m.\u001b[0m\u001b[0mupdate\u001b[0m\u001b[1;33m(\u001b[0m\u001b[0mkwds_defaults\u001b[0m\u001b[1;33m)\u001b[0m\u001b[1;33m\u001b[0m\u001b[1;33m\u001b[0m\u001b[0m\n\u001b[0;32m    585\u001b[0m \u001b[1;33m\u001b[0m\u001b[0m\n\u001b[1;32m--> 586\u001b[1;33m     \u001b[1;32mreturn\u001b[0m \u001b[0m_read\u001b[0m\u001b[1;33m(\u001b[0m\u001b[0mfilepath_or_buffer\u001b[0m\u001b[1;33m,\u001b[0m \u001b[0mkwds\u001b[0m\u001b[1;33m)\u001b[0m\u001b[1;33m\u001b[0m\u001b[1;33m\u001b[0m\u001b[0m\n\u001b[0m\u001b[0;32m    587\u001b[0m \u001b[1;33m\u001b[0m\u001b[0m\n\u001b[0;32m    588\u001b[0m \u001b[1;33m\u001b[0m\u001b[0m\n",
      "\u001b[1;32mC:\\ProgramData\\Anaconda3\\lib\\site-packages\\pandas\\io\\parsers\\readers.py\u001b[0m in \u001b[0;36m_read\u001b[1;34m(filepath_or_buffer, kwds)\u001b[0m\n\u001b[0;32m    480\u001b[0m \u001b[1;33m\u001b[0m\u001b[0m\n\u001b[0;32m    481\u001b[0m     \u001b[1;31m# Create the parser.\u001b[0m\u001b[1;33m\u001b[0m\u001b[1;33m\u001b[0m\u001b[0m\n\u001b[1;32m--> 482\u001b[1;33m     \u001b[0mparser\u001b[0m \u001b[1;33m=\u001b[0m \u001b[0mTextFileReader\u001b[0m\u001b[1;33m(\u001b[0m\u001b[0mfilepath_or_buffer\u001b[0m\u001b[1;33m,\u001b[0m \u001b[1;33m**\u001b[0m\u001b[0mkwds\u001b[0m\u001b[1;33m)\u001b[0m\u001b[1;33m\u001b[0m\u001b[1;33m\u001b[0m\u001b[0m\n\u001b[0m\u001b[0;32m    483\u001b[0m \u001b[1;33m\u001b[0m\u001b[0m\n\u001b[0;32m    484\u001b[0m     \u001b[1;32mif\u001b[0m \u001b[0mchunksize\u001b[0m \u001b[1;32mor\u001b[0m \u001b[0miterator\u001b[0m\u001b[1;33m:\u001b[0m\u001b[1;33m\u001b[0m\u001b[1;33m\u001b[0m\u001b[0m\n",
      "\u001b[1;32mC:\\ProgramData\\Anaconda3\\lib\\site-packages\\pandas\\io\\parsers\\readers.py\u001b[0m in \u001b[0;36m__init__\u001b[1;34m(self, f, engine, **kwds)\u001b[0m\n\u001b[0;32m    809\u001b[0m             \u001b[0mself\u001b[0m\u001b[1;33m.\u001b[0m\u001b[0moptions\u001b[0m\u001b[1;33m[\u001b[0m\u001b[1;34m\"has_index_names\"\u001b[0m\u001b[1;33m]\u001b[0m \u001b[1;33m=\u001b[0m \u001b[0mkwds\u001b[0m\u001b[1;33m[\u001b[0m\u001b[1;34m\"has_index_names\"\u001b[0m\u001b[1;33m]\u001b[0m\u001b[1;33m\u001b[0m\u001b[1;33m\u001b[0m\u001b[0m\n\u001b[0;32m    810\u001b[0m \u001b[1;33m\u001b[0m\u001b[0m\n\u001b[1;32m--> 811\u001b[1;33m         \u001b[0mself\u001b[0m\u001b[1;33m.\u001b[0m\u001b[0m_engine\u001b[0m \u001b[1;33m=\u001b[0m \u001b[0mself\u001b[0m\u001b[1;33m.\u001b[0m\u001b[0m_make_engine\u001b[0m\u001b[1;33m(\u001b[0m\u001b[0mself\u001b[0m\u001b[1;33m.\u001b[0m\u001b[0mengine\u001b[0m\u001b[1;33m)\u001b[0m\u001b[1;33m\u001b[0m\u001b[1;33m\u001b[0m\u001b[0m\n\u001b[0m\u001b[0;32m    812\u001b[0m \u001b[1;33m\u001b[0m\u001b[0m\n\u001b[0;32m    813\u001b[0m     \u001b[1;32mdef\u001b[0m \u001b[0mclose\u001b[0m\u001b[1;33m(\u001b[0m\u001b[0mself\u001b[0m\u001b[1;33m)\u001b[0m\u001b[1;33m:\u001b[0m\u001b[1;33m\u001b[0m\u001b[1;33m\u001b[0m\u001b[0m\n",
      "\u001b[1;32mC:\\ProgramData\\Anaconda3\\lib\\site-packages\\pandas\\io\\parsers\\readers.py\u001b[0m in \u001b[0;36m_make_engine\u001b[1;34m(self, engine)\u001b[0m\n\u001b[0;32m   1038\u001b[0m             )\n\u001b[0;32m   1039\u001b[0m         \u001b[1;31m# error: Too many arguments for \"ParserBase\"\u001b[0m\u001b[1;33m\u001b[0m\u001b[1;33m\u001b[0m\u001b[0m\n\u001b[1;32m-> 1040\u001b[1;33m         \u001b[1;32mreturn\u001b[0m \u001b[0mmapping\u001b[0m\u001b[1;33m[\u001b[0m\u001b[0mengine\u001b[0m\u001b[1;33m]\u001b[0m\u001b[1;33m(\u001b[0m\u001b[0mself\u001b[0m\u001b[1;33m.\u001b[0m\u001b[0mf\u001b[0m\u001b[1;33m,\u001b[0m \u001b[1;33m**\u001b[0m\u001b[0mself\u001b[0m\u001b[1;33m.\u001b[0m\u001b[0moptions\u001b[0m\u001b[1;33m)\u001b[0m  \u001b[1;31m# type: ignore[call-arg]\u001b[0m\u001b[1;33m\u001b[0m\u001b[1;33m\u001b[0m\u001b[0m\n\u001b[0m\u001b[0;32m   1041\u001b[0m \u001b[1;33m\u001b[0m\u001b[0m\n\u001b[0;32m   1042\u001b[0m     \u001b[1;32mdef\u001b[0m \u001b[0m_failover_to_python\u001b[0m\u001b[1;33m(\u001b[0m\u001b[0mself\u001b[0m\u001b[1;33m)\u001b[0m\u001b[1;33m:\u001b[0m\u001b[1;33m\u001b[0m\u001b[1;33m\u001b[0m\u001b[0m\n",
      "\u001b[1;32mC:\\ProgramData\\Anaconda3\\lib\\site-packages\\pandas\\io\\parsers\\c_parser_wrapper.py\u001b[0m in \u001b[0;36m__init__\u001b[1;34m(self, src, **kwds)\u001b[0m\n\u001b[0;32m     49\u001b[0m \u001b[1;33m\u001b[0m\u001b[0m\n\u001b[0;32m     50\u001b[0m         \u001b[1;31m# open handles\u001b[0m\u001b[1;33m\u001b[0m\u001b[1;33m\u001b[0m\u001b[0m\n\u001b[1;32m---> 51\u001b[1;33m         \u001b[0mself\u001b[0m\u001b[1;33m.\u001b[0m\u001b[0m_open_handles\u001b[0m\u001b[1;33m(\u001b[0m\u001b[0msrc\u001b[0m\u001b[1;33m,\u001b[0m \u001b[0mkwds\u001b[0m\u001b[1;33m)\u001b[0m\u001b[1;33m\u001b[0m\u001b[1;33m\u001b[0m\u001b[0m\n\u001b[0m\u001b[0;32m     52\u001b[0m         \u001b[1;32massert\u001b[0m \u001b[0mself\u001b[0m\u001b[1;33m.\u001b[0m\u001b[0mhandles\u001b[0m \u001b[1;32mis\u001b[0m \u001b[1;32mnot\u001b[0m \u001b[1;32mNone\u001b[0m\u001b[1;33m\u001b[0m\u001b[1;33m\u001b[0m\u001b[0m\n\u001b[0;32m     53\u001b[0m \u001b[1;33m\u001b[0m\u001b[0m\n",
      "\u001b[1;32mC:\\ProgramData\\Anaconda3\\lib\\site-packages\\pandas\\io\\parsers\\base_parser.py\u001b[0m in \u001b[0;36m_open_handles\u001b[1;34m(self, src, kwds)\u001b[0m\n\u001b[0;32m    220\u001b[0m         \u001b[0mLet\u001b[0m \u001b[0mthe\u001b[0m \u001b[0mreaders\u001b[0m \u001b[0mopen\u001b[0m \u001b[0mIOHandles\u001b[0m \u001b[0mafter\u001b[0m \u001b[0mthey\u001b[0m \u001b[0mare\u001b[0m \u001b[0mdone\u001b[0m \u001b[1;32mwith\u001b[0m \u001b[0mtheir\u001b[0m \u001b[0mpotential\u001b[0m \u001b[0mraises\u001b[0m\u001b[1;33m.\u001b[0m\u001b[1;33m\u001b[0m\u001b[1;33m\u001b[0m\u001b[0m\n\u001b[0;32m    221\u001b[0m         \"\"\"\n\u001b[1;32m--> 222\u001b[1;33m         self.handles = get_handle(\n\u001b[0m\u001b[0;32m    223\u001b[0m             \u001b[0msrc\u001b[0m\u001b[1;33m,\u001b[0m\u001b[1;33m\u001b[0m\u001b[1;33m\u001b[0m\u001b[0m\n\u001b[0;32m    224\u001b[0m             \u001b[1;34m\"r\"\u001b[0m\u001b[1;33m,\u001b[0m\u001b[1;33m\u001b[0m\u001b[1;33m\u001b[0m\u001b[0m\n",
      "\u001b[1;32mC:\\ProgramData\\Anaconda3\\lib\\site-packages\\pandas\\io\\common.py\u001b[0m in \u001b[0;36mget_handle\u001b[1;34m(path_or_buf, mode, encoding, compression, memory_map, is_text, errors, storage_options)\u001b[0m\n\u001b[0;32m    700\u001b[0m         \u001b[1;32mif\u001b[0m \u001b[0mioargs\u001b[0m\u001b[1;33m.\u001b[0m\u001b[0mencoding\u001b[0m \u001b[1;32mand\u001b[0m \u001b[1;34m\"b\"\u001b[0m \u001b[1;32mnot\u001b[0m \u001b[1;32min\u001b[0m \u001b[0mioargs\u001b[0m\u001b[1;33m.\u001b[0m\u001b[0mmode\u001b[0m\u001b[1;33m:\u001b[0m\u001b[1;33m\u001b[0m\u001b[1;33m\u001b[0m\u001b[0m\n\u001b[0;32m    701\u001b[0m             \u001b[1;31m# Encoding\u001b[0m\u001b[1;33m\u001b[0m\u001b[1;33m\u001b[0m\u001b[0m\n\u001b[1;32m--> 702\u001b[1;33m             handle = open(\n\u001b[0m\u001b[0;32m    703\u001b[0m                 \u001b[0mhandle\u001b[0m\u001b[1;33m,\u001b[0m\u001b[1;33m\u001b[0m\u001b[1;33m\u001b[0m\u001b[0m\n\u001b[0;32m    704\u001b[0m                 \u001b[0mioargs\u001b[0m\u001b[1;33m.\u001b[0m\u001b[0mmode\u001b[0m\u001b[1;33m,\u001b[0m\u001b[1;33m\u001b[0m\u001b[1;33m\u001b[0m\u001b[0m\n",
      "\u001b[1;31mFileNotFoundError\u001b[0m: [Errno 2] No such file or directory: 'datasets//customer-satisfaction.csv'"
     ]
    }
   ],
   "source": [
    "df= pd.read_csv(\"datasets//customer-satisfaction.csv\")\n",
    "df"
   ]
  },
  {
   "cell_type": "markdown",
   "id": "79ac4045",
   "metadata": {},
   "source": [
    "#### 3) Dataset: A CSV file house-info.csv \n",
    "#### Problem: Develop a Python program to calculate the first, second (median), and third quartiles of house prices. Also, compute the interquartile range (IQR) and identify any outliers in the dataset"
   ]
  },
  {
   "cell_type": "code",
   "execution_count": 64,
   "id": "ad2c9edf",
   "metadata": {},
   "outputs": [
    {
     "data": {
      "text/html": [
       "<div>\n",
       "<style scoped>\n",
       "    .dataframe tbody tr th:only-of-type {\n",
       "        vertical-align: middle;\n",
       "    }\n",
       "\n",
       "    .dataframe tbody tr th {\n",
       "        vertical-align: top;\n",
       "    }\n",
       "\n",
       "    .dataframe thead th {\n",
       "        text-align: right;\n",
       "    }\n",
       "</style>\n",
       "<table border=\"1\" class=\"dataframe\">\n",
       "  <thead>\n",
       "    <tr style=\"text-align: right;\">\n",
       "      <th></th>\n",
       "      <th>House ID</th>\n",
       "      <th>Location</th>\n",
       "      <th>Number of Bedrooms</th>\n",
       "      <th>Square Footage</th>\n",
       "      <th>Price</th>\n",
       "    </tr>\n",
       "  </thead>\n",
       "  <tbody>\n",
       "    <tr>\n",
       "      <th>0</th>\n",
       "      <td>1</td>\n",
       "      <td>Suburban</td>\n",
       "      <td>3</td>\n",
       "      <td>1800</td>\n",
       "      <td>$350,000</td>\n",
       "    </tr>\n",
       "    <tr>\n",
       "      <th>1</th>\n",
       "      <td>2</td>\n",
       "      <td>Urban</td>\n",
       "      <td>2</td>\n",
       "      <td>1200</td>\n",
       "      <td>$280,000</td>\n",
       "    </tr>\n",
       "    <tr>\n",
       "      <th>2</th>\n",
       "      <td>3</td>\n",
       "      <td>Rural</td>\n",
       "      <td>4</td>\n",
       "      <td>2500</td>\n",
       "      <td>$400,000</td>\n",
       "    </tr>\n",
       "    <tr>\n",
       "      <th>3</th>\n",
       "      <td>4</td>\n",
       "      <td>Suburban</td>\n",
       "      <td>3</td>\n",
       "      <td>1600</td>\n",
       "      <td>$320,000</td>\n",
       "    </tr>\n",
       "    <tr>\n",
       "      <th>4</th>\n",
       "      <td>5</td>\n",
       "      <td>Urban</td>\n",
       "      <td>1</td>\n",
       "      <td>800</td>\n",
       "      <td>$200,000</td>\n",
       "    </tr>\n",
       "    <tr>\n",
       "      <th>5</th>\n",
       "      <td>6</td>\n",
       "      <td>Rural</td>\n",
       "      <td>5</td>\n",
       "      <td>3000</td>\n",
       "      <td>$450,000</td>\n",
       "    </tr>\n",
       "    <tr>\n",
       "      <th>6</th>\n",
       "      <td>7</td>\n",
       "      <td>Suburban</td>\n",
       "      <td>2</td>\n",
       "      <td>1400</td>\n",
       "      <td>$290,000</td>\n",
       "    </tr>\n",
       "    <tr>\n",
       "      <th>7</th>\n",
       "      <td>8</td>\n",
       "      <td>Urban</td>\n",
       "      <td>3</td>\n",
       "      <td>1600</td>\n",
       "      <td>$310,000</td>\n",
       "    </tr>\n",
       "    <tr>\n",
       "      <th>8</th>\n",
       "      <td>9</td>\n",
       "      <td>Rural</td>\n",
       "      <td>4</td>\n",
       "      <td>2800</td>\n",
       "      <td>$420,000</td>\n",
       "    </tr>\n",
       "    <tr>\n",
       "      <th>9</th>\n",
       "      <td>10</td>\n",
       "      <td>Suburban</td>\n",
       "      <td>3</td>\n",
       "      <td>1700</td>\n",
       "      <td>$330,000</td>\n",
       "    </tr>\n",
       "    <tr>\n",
       "      <th>10</th>\n",
       "      <td>11</td>\n",
       "      <td>Urban</td>\n",
       "      <td>2</td>\n",
       "      <td>1100</td>\n",
       "      <td>$270,000</td>\n",
       "    </tr>\n",
       "    <tr>\n",
       "      <th>11</th>\n",
       "      <td>12</td>\n",
       "      <td>Rural</td>\n",
       "      <td>5</td>\n",
       "      <td>3200</td>\n",
       "      <td>$470,000</td>\n",
       "    </tr>\n",
       "    <tr>\n",
       "      <th>12</th>\n",
       "      <td>13</td>\n",
       "      <td>Suburban</td>\n",
       "      <td>3</td>\n",
       "      <td>1500</td>\n",
       "      <td>$900,000</td>\n",
       "    </tr>\n",
       "    <tr>\n",
       "      <th>13</th>\n",
       "      <td>14</td>\n",
       "      <td>Urban</td>\n",
       "      <td>1</td>\n",
       "      <td>900</td>\n",
       "      <td>$210,000</td>\n",
       "    </tr>\n",
       "    <tr>\n",
       "      <th>14</th>\n",
       "      <td>15</td>\n",
       "      <td>Rural</td>\n",
       "      <td>4</td>\n",
       "      <td>9600</td>\n",
       "      <td>$410,000</td>\n",
       "    </tr>\n",
       "    <tr>\n",
       "      <th>15</th>\n",
       "      <td>16</td>\n",
       "      <td>Suburban</td>\n",
       "      <td>3</td>\n",
       "      <td>1800</td>\n",
       "      <td>$340,000</td>\n",
       "    </tr>\n",
       "    <tr>\n",
       "      <th>16</th>\n",
       "      <td>17</td>\n",
       "      <td>Urban</td>\n",
       "      <td>2</td>\n",
       "      <td>1200</td>\n",
       "      <td>$280,000</td>\n",
       "    </tr>\n",
       "    <tr>\n",
       "      <th>17</th>\n",
       "      <td>18</td>\n",
       "      <td>Rural</td>\n",
       "      <td>5</td>\n",
       "      <td>2500</td>\n",
       "      <td>$400,000</td>\n",
       "    </tr>\n",
       "    <tr>\n",
       "      <th>18</th>\n",
       "      <td>19</td>\n",
       "      <td>Suburban</td>\n",
       "      <td>3</td>\n",
       "      <td>1600</td>\n",
       "      <td>$320,000</td>\n",
       "    </tr>\n",
       "    <tr>\n",
       "      <th>19</th>\n",
       "      <td>20</td>\n",
       "      <td>Urban</td>\n",
       "      <td>1</td>\n",
       "      <td>800</td>\n",
       "      <td>$200,000</td>\n",
       "    </tr>\n",
       "    <tr>\n",
       "      <th>20</th>\n",
       "      <td>21</td>\n",
       "      <td>Rural</td>\n",
       "      <td>4</td>\n",
       "      <td>3000</td>\n",
       "      <td>$950,000</td>\n",
       "    </tr>\n",
       "    <tr>\n",
       "      <th>21</th>\n",
       "      <td>22</td>\n",
       "      <td>Suburban</td>\n",
       "      <td>2</td>\n",
       "      <td>1400</td>\n",
       "      <td>$290,000</td>\n",
       "    </tr>\n",
       "    <tr>\n",
       "      <th>22</th>\n",
       "      <td>23</td>\n",
       "      <td>Urban</td>\n",
       "      <td>3</td>\n",
       "      <td>1600</td>\n",
       "      <td>$310,000</td>\n",
       "    </tr>\n",
       "    <tr>\n",
       "      <th>23</th>\n",
       "      <td>24</td>\n",
       "      <td>Rural</td>\n",
       "      <td>4</td>\n",
       "      <td>2800</td>\n",
       "      <td>$420,000</td>\n",
       "    </tr>\n",
       "    <tr>\n",
       "      <th>24</th>\n",
       "      <td>25</td>\n",
       "      <td>Suburban</td>\n",
       "      <td>3</td>\n",
       "      <td>1700</td>\n",
       "      <td>$330,000</td>\n",
       "    </tr>\n",
       "  </tbody>\n",
       "</table>\n",
       "</div>"
      ],
      "text/plain": [
       "    House ID  Location  Number of Bedrooms  Square Footage     Price\n",
       "0          1  Suburban                   3            1800  $350,000\n",
       "1          2     Urban                   2            1200  $280,000\n",
       "2          3     Rural                   4            2500  $400,000\n",
       "3          4  Suburban                   3            1600  $320,000\n",
       "4          5     Urban                   1             800  $200,000\n",
       "5          6     Rural                   5            3000  $450,000\n",
       "6          7  Suburban                   2            1400  $290,000\n",
       "7          8     Urban                   3            1600  $310,000\n",
       "8          9     Rural                   4            2800  $420,000\n",
       "9         10  Suburban                   3            1700  $330,000\n",
       "10        11     Urban                   2            1100  $270,000\n",
       "11        12     Rural                   5            3200  $470,000\n",
       "12        13  Suburban                   3            1500  $900,000\n",
       "13        14     Urban                   1             900  $210,000\n",
       "14        15     Rural                   4            9600  $410,000\n",
       "15        16  Suburban                   3            1800  $340,000\n",
       "16        17     Urban                   2            1200  $280,000\n",
       "17        18     Rural                   5            2500  $400,000\n",
       "18        19  Suburban                   3            1600  $320,000\n",
       "19        20     Urban                   1             800  $200,000\n",
       "20        21     Rural                   4            3000  $950,000\n",
       "21        22  Suburban                   2            1400  $290,000\n",
       "22        23     Urban                   3            1600  $310,000\n",
       "23        24     Rural                   4            2800  $420,000\n",
       "24        25  Suburban                   3            1700  $330,000"
      ]
     },
     "execution_count": 64,
     "metadata": {},
     "output_type": "execute_result"
    }
   ],
   "source": [
    "df= pd.read_csv(\"datasets//house-info.csv\")\n",
    "df"
   ]
  },
  {
   "cell_type": "code",
   "execution_count": 65,
   "id": "1008da8b",
   "metadata": {},
   "outputs": [
    {
     "name": "stderr",
     "output_type": "stream",
     "text": [
      "C:\\Users\\Snehal\\AppData\\Local\\Temp/ipykernel_2068/3310978764.py:1: FutureWarning: The default value of regex will change from True to False in a future version. In addition, single character regular expressions will *not* be treated as literal strings when regex=True.\n",
      "  df['Price'] = df['Price'].str.replace('$', '') # Remove '$'\n"
     ]
    },
    {
     "data": {
      "text/plain": [
       "0     350000\n",
       "1     280000\n",
       "2     400000\n",
       "3     320000\n",
       "4     200000\n",
       "5     450000\n",
       "6     290000\n",
       "7     310000\n",
       "8     420000\n",
       "9     330000\n",
       "10    270000\n",
       "11    470000\n",
       "12    900000\n",
       "13    210000\n",
       "14    410000\n",
       "15    340000\n",
       "16    280000\n",
       "17    400000\n",
       "18    320000\n",
       "19    200000\n",
       "20    950000\n",
       "21    290000\n",
       "22    310000\n",
       "23    420000\n",
       "24    330000\n",
       "Name: Price, dtype: int32"
      ]
     },
     "execution_count": 65,
     "metadata": {},
     "output_type": "execute_result"
    }
   ],
   "source": [
    "df['Price'] = df['Price'].str.replace('$', '') # Remove '$'\n",
    "df['Price'] = df['Price'].str.replace(',', '') # Remove ','\n",
    "df['Price'] = df['Price'].astype(int) # Convert to int\n",
    "df['Price']"
   ]
  },
  {
   "cell_type": "code",
   "execution_count": 66,
   "id": "0e0735d3",
   "metadata": {},
   "outputs": [
    {
     "data": {
      "text/plain": [
       "array([350000, 280000, 400000, 320000, 200000, 450000, 290000, 310000,\n",
       "       420000, 330000, 270000, 470000, 900000, 210000, 410000, 340000,\n",
       "       280000, 400000, 320000, 200000, 950000, 290000, 310000, 420000,\n",
       "       330000])"
      ]
     },
     "execution_count": 66,
     "metadata": {},
     "output_type": "execute_result"
    }
   ],
   "source": [
    "prices = np.array(df['Price'])\n",
    "prices"
   ]
  },
  {
   "cell_type": "code",
   "execution_count": 69,
   "id": "5cbe0c95",
   "metadata": {},
   "outputs": [
    {
     "name": "stdout",
     "output_type": "stream",
     "text": [
      "First Quartile:  290000.0\n",
      "Second Quartile:  330000.0\n",
      "First Quartile:  410000.0\n"
     ]
    }
   ],
   "source": [
    "print(\"First Quartile: \", np.percentile(prices,25))\n",
    "print(\"Second Quartile: \", np.percentile(prices,50))\n",
    "print(\"First Quartile: \",np.percentile(prices,75))"
   ]
  },
  {
   "cell_type": "code",
   "execution_count": 70,
   "id": "20d19b53",
   "metadata": {},
   "outputs": [
    {
     "name": "stdout",
     "output_type": "stream",
     "text": [
      "Inter Quartile Range:  120000.0\n"
     ]
    }
   ],
   "source": [
    "Q1 = np.percentile(prices,25)\n",
    "Q3 = np.percentile(prices,75)\n",
    "\n",
    "IQR = Q3 - Q1\n",
    "print(\"Inter Quartile Range: \", IQR)"
   ]
  },
  {
   "cell_type": "code",
   "execution_count": 71,
   "id": "0ff5ddfe",
   "metadata": {},
   "outputs": [],
   "source": [
    "upper_fence = Q3 + 1.5 * IQR\n",
    "lower_fence = Q1 - 1.5 * IQR"
   ]
  },
  {
   "cell_type": "code",
   "execution_count": 73,
   "id": "473d6146",
   "metadata": {},
   "outputs": [
    {
     "data": {
      "text/plain": [
       "array([False, False, False, False, False, False, False, False, False,\n",
       "       False, False, False,  True, False, False, False, False, False,\n",
       "       False, False,  True, False, False, False, False])"
      ]
     },
     "execution_count": 73,
     "metadata": {},
     "output_type": "execute_result"
    }
   ],
   "source": [
    "(prices > upper_fence) "
   ]
  },
  {
   "cell_type": "code",
   "execution_count": 74,
   "id": "353c10c2",
   "metadata": {},
   "outputs": [
    {
     "data": {
      "text/plain": [
       "array([False, False, False, False, False, False, False, False, False,\n",
       "       False, False, False, False, False, False, False, False, False,\n",
       "       False, False, False, False, False, False, False])"
      ]
     },
     "execution_count": 74,
     "metadata": {},
     "output_type": "execute_result"
    }
   ],
   "source": [
    "(prices < lower_fence)"
   ]
  },
  {
   "cell_type": "code",
   "execution_count": 80,
   "id": "a2be1b30",
   "metadata": {},
   "outputs": [
    {
     "data": {
      "text/plain": [
       "array([900000, 950000])"
      ]
     },
     "execution_count": 80,
     "metadata": {},
     "output_type": "execute_result"
    }
   ],
   "source": [
    "outliers = prices[prices > upper_fence]\n",
    "outliers"
   ]
  },
  {
   "cell_type": "code",
   "execution_count": 87,
   "id": "d68ab5b5",
   "metadata": {},
   "outputs": [
    {
     "data": {
      "text/plain": [
       "array([], dtype=int32)"
      ]
     },
     "execution_count": 87,
     "metadata": {},
     "output_type": "execute_result"
    }
   ],
   "source": [
    "prices[prices < lower_fence]"
   ]
  },
  {
   "cell_type": "code",
   "execution_count": 88,
   "id": "3ec6eddc",
   "metadata": {},
   "outputs": [
    {
     "data": {
      "text/plain": [
       "12"
      ]
     },
     "execution_count": 88,
     "metadata": {},
     "output_type": "execute_result"
    }
   ],
   "source": [
    "np.where(prices == outliers[0])[0][0] # To get outlier index in an array"
   ]
  },
  {
   "cell_type": "code",
   "execution_count": 89,
   "id": "913a999a",
   "metadata": {},
   "outputs": [
    {
     "name": "stdout",
     "output_type": "stream",
     "text": [
      "House ID                    13\n",
      "Location              Suburban\n",
      "Number of Bedrooms           3\n",
      "Square Footage            1500\n",
      "Price                   900000\n",
      "Name: 12, dtype: object\n",
      "\n",
      "\n",
      "House ID                  21\n",
      "Location               Rural\n",
      "Number of Bedrooms         4\n",
      "Square Footage          3000\n",
      "Price                 950000\n",
      "Name: 20, dtype: object\n",
      "\n",
      "\n"
     ]
    }
   ],
   "source": [
    "for x in outliers:\n",
    "    print(df.loc[np.where(prices == x)[0][0]])\n",
    "    print(\"\\n\")"
   ]
  },
  {
   "cell_type": "markdown",
   "id": "8c749990",
   "metadata": {},
   "source": [
    "#### 4) Dataset: A CSV file visitor-info.csv \n",
    "#### Problem: Create a Python program to analyze the average, minimum, and maximum number of visitors per day. Investigate the relationship between bounce rate and conversion rate using correlation analysis"
   ]
  },
  {
   "cell_type": "code",
   "execution_count": 91,
   "id": "e2c9bcbf",
   "metadata": {},
   "outputs": [
    {
     "data": {
      "text/html": [
       "<div>\n",
       "<style scoped>\n",
       "    .dataframe tbody tr th:only-of-type {\n",
       "        vertical-align: middle;\n",
       "    }\n",
       "\n",
       "    .dataframe tbody tr th {\n",
       "        vertical-align: top;\n",
       "    }\n",
       "\n",
       "    .dataframe thead th {\n",
       "        text-align: right;\n",
       "    }\n",
       "</style>\n",
       "<table border=\"1\" class=\"dataframe\">\n",
       "  <thead>\n",
       "    <tr style=\"text-align: right;\">\n",
       "      <th></th>\n",
       "      <th>Date</th>\n",
       "      <th>Number of Visitors</th>\n",
       "      <th>Average Session Duration (seconds)</th>\n",
       "      <th>Bounce Rate (%)</th>\n",
       "      <th>Conversion Rate (%)</th>\n",
       "    </tr>\n",
       "  </thead>\n",
       "  <tbody>\n",
       "    <tr>\n",
       "      <th>0</th>\n",
       "      <td>2023-12-01</td>\n",
       "      <td>5000</td>\n",
       "      <td>120</td>\n",
       "      <td>25</td>\n",
       "      <td>2.0</td>\n",
       "    </tr>\n",
       "    <tr>\n",
       "      <th>1</th>\n",
       "      <td>2023-12-02</td>\n",
       "      <td>4500</td>\n",
       "      <td>130</td>\n",
       "      <td>22</td>\n",
       "      <td>3.0</td>\n",
       "    </tr>\n",
       "    <tr>\n",
       "      <th>2</th>\n",
       "      <td>2023-12-03</td>\n",
       "      <td>5500</td>\n",
       "      <td>115</td>\n",
       "      <td>28</td>\n",
       "      <td>1.5</td>\n",
       "    </tr>\n",
       "    <tr>\n",
       "      <th>3</th>\n",
       "      <td>2023-12-04</td>\n",
       "      <td>6000</td>\n",
       "      <td>125</td>\n",
       "      <td>20</td>\n",
       "      <td>2.5</td>\n",
       "    </tr>\n",
       "    <tr>\n",
       "      <th>4</th>\n",
       "      <td>2023-12-05</td>\n",
       "      <td>4800</td>\n",
       "      <td>135</td>\n",
       "      <td>23</td>\n",
       "      <td>2.0</td>\n",
       "    </tr>\n",
       "    <tr>\n",
       "      <th>5</th>\n",
       "      <td>2023-12-06</td>\n",
       "      <td>5200</td>\n",
       "      <td>120</td>\n",
       "      <td>25</td>\n",
       "      <td>2.2</td>\n",
       "    </tr>\n",
       "    <tr>\n",
       "      <th>6</th>\n",
       "      <td>2023-12-07</td>\n",
       "      <td>4700</td>\n",
       "      <td>130</td>\n",
       "      <td>22</td>\n",
       "      <td>2.8</td>\n",
       "    </tr>\n",
       "    <tr>\n",
       "      <th>7</th>\n",
       "      <td>2023-12-08</td>\n",
       "      <td>5600</td>\n",
       "      <td>115</td>\n",
       "      <td>28</td>\n",
       "      <td>1.7</td>\n",
       "    </tr>\n",
       "    <tr>\n",
       "      <th>8</th>\n",
       "      <td>2023-12-09</td>\n",
       "      <td>6200</td>\n",
       "      <td>125</td>\n",
       "      <td>20</td>\n",
       "      <td>2.7</td>\n",
       "    </tr>\n",
       "    <tr>\n",
       "      <th>9</th>\n",
       "      <td>2023-12-10</td>\n",
       "      <td>4900</td>\n",
       "      <td>135</td>\n",
       "      <td>23</td>\n",
       "      <td>2.1</td>\n",
       "    </tr>\n",
       "    <tr>\n",
       "      <th>10</th>\n",
       "      <td>2023-12-11</td>\n",
       "      <td>5100</td>\n",
       "      <td>120</td>\n",
       "      <td>25</td>\n",
       "      <td>2.3</td>\n",
       "    </tr>\n",
       "    <tr>\n",
       "      <th>11</th>\n",
       "      <td>2023-12-12</td>\n",
       "      <td>4600</td>\n",
       "      <td>130</td>\n",
       "      <td>22</td>\n",
       "      <td>2.9</td>\n",
       "    </tr>\n",
       "    <tr>\n",
       "      <th>12</th>\n",
       "      <td>2023-12-13</td>\n",
       "      <td>5400</td>\n",
       "      <td>115</td>\n",
       "      <td>28</td>\n",
       "      <td>1.8</td>\n",
       "    </tr>\n",
       "    <tr>\n",
       "      <th>13</th>\n",
       "      <td>2023-12-14</td>\n",
       "      <td>6100</td>\n",
       "      <td>125</td>\n",
       "      <td>20</td>\n",
       "      <td>2.6</td>\n",
       "    </tr>\n",
       "    <tr>\n",
       "      <th>14</th>\n",
       "      <td>2023-12-15</td>\n",
       "      <td>5000</td>\n",
       "      <td>135</td>\n",
       "      <td>23</td>\n",
       "      <td>2.2</td>\n",
       "    </tr>\n",
       "    <tr>\n",
       "      <th>15</th>\n",
       "      <td>2023-12-16</td>\n",
       "      <td>4500</td>\n",
       "      <td>120</td>\n",
       "      <td>25</td>\n",
       "      <td>2.4</td>\n",
       "    </tr>\n",
       "    <tr>\n",
       "      <th>16</th>\n",
       "      <td>2023-12-17</td>\n",
       "      <td>5500</td>\n",
       "      <td>130</td>\n",
       "      <td>22</td>\n",
       "      <td>2.7</td>\n",
       "    </tr>\n",
       "    <tr>\n",
       "      <th>17</th>\n",
       "      <td>2023-12-18</td>\n",
       "      <td>6000</td>\n",
       "      <td>115</td>\n",
       "      <td>28</td>\n",
       "      <td>1.6</td>\n",
       "    </tr>\n",
       "    <tr>\n",
       "      <th>18</th>\n",
       "      <td>2023-12-19</td>\n",
       "      <td>4800</td>\n",
       "      <td>125</td>\n",
       "      <td>20</td>\n",
       "      <td>2.5</td>\n",
       "    </tr>\n",
       "    <tr>\n",
       "      <th>19</th>\n",
       "      <td>2023-12-20</td>\n",
       "      <td>5200</td>\n",
       "      <td>135</td>\n",
       "      <td>23</td>\n",
       "      <td>2.1</td>\n",
       "    </tr>\n",
       "    <tr>\n",
       "      <th>20</th>\n",
       "      <td>2023-12-21</td>\n",
       "      <td>4700</td>\n",
       "      <td>120</td>\n",
       "      <td>25</td>\n",
       "      <td>2.3</td>\n",
       "    </tr>\n",
       "    <tr>\n",
       "      <th>21</th>\n",
       "      <td>2023-12-22</td>\n",
       "      <td>5600</td>\n",
       "      <td>130</td>\n",
       "      <td>22</td>\n",
       "      <td>2.9</td>\n",
       "    </tr>\n",
       "    <tr>\n",
       "      <th>22</th>\n",
       "      <td>2023-12-23</td>\n",
       "      <td>6200</td>\n",
       "      <td>115</td>\n",
       "      <td>28</td>\n",
       "      <td>1.8</td>\n",
       "    </tr>\n",
       "    <tr>\n",
       "      <th>23</th>\n",
       "      <td>2023-12-24</td>\n",
       "      <td>4900</td>\n",
       "      <td>125</td>\n",
       "      <td>20</td>\n",
       "      <td>2.6</td>\n",
       "    </tr>\n",
       "    <tr>\n",
       "      <th>24</th>\n",
       "      <td>2023-12-25</td>\n",
       "      <td>5100</td>\n",
       "      <td>135</td>\n",
       "      <td>23</td>\n",
       "      <td>2.2</td>\n",
       "    </tr>\n",
       "    <tr>\n",
       "      <th>25</th>\n",
       "      <td>2023-12-26</td>\n",
       "      <td>4600</td>\n",
       "      <td>120</td>\n",
       "      <td>25</td>\n",
       "      <td>2.4</td>\n",
       "    </tr>\n",
       "    <tr>\n",
       "      <th>26</th>\n",
       "      <td>2023-12-27</td>\n",
       "      <td>5400</td>\n",
       "      <td>130</td>\n",
       "      <td>22</td>\n",
       "      <td>2.7</td>\n",
       "    </tr>\n",
       "    <tr>\n",
       "      <th>27</th>\n",
       "      <td>2023-12-28</td>\n",
       "      <td>6100</td>\n",
       "      <td>115</td>\n",
       "      <td>28</td>\n",
       "      <td>1.6</td>\n",
       "    </tr>\n",
       "    <tr>\n",
       "      <th>28</th>\n",
       "      <td>2023-12-29</td>\n",
       "      <td>5000</td>\n",
       "      <td>125</td>\n",
       "      <td>20</td>\n",
       "      <td>2.5</td>\n",
       "    </tr>\n",
       "  </tbody>\n",
       "</table>\n",
       "</div>"
      ],
      "text/plain": [
       "          Date  Number of Visitors  Average Session Duration (seconds)  \\\n",
       "0   2023-12-01                5000                                 120   \n",
       "1   2023-12-02                4500                                 130   \n",
       "2   2023-12-03                5500                                 115   \n",
       "3   2023-12-04                6000                                 125   \n",
       "4   2023-12-05                4800                                 135   \n",
       "5   2023-12-06                5200                                 120   \n",
       "6   2023-12-07                4700                                 130   \n",
       "7   2023-12-08                5600                                 115   \n",
       "8   2023-12-09                6200                                 125   \n",
       "9   2023-12-10                4900                                 135   \n",
       "10  2023-12-11                5100                                 120   \n",
       "11  2023-12-12                4600                                 130   \n",
       "12  2023-12-13                5400                                 115   \n",
       "13  2023-12-14                6100                                 125   \n",
       "14  2023-12-15                5000                                 135   \n",
       "15  2023-12-16                4500                                 120   \n",
       "16  2023-12-17                5500                                 130   \n",
       "17  2023-12-18                6000                                 115   \n",
       "18  2023-12-19                4800                                 125   \n",
       "19  2023-12-20                5200                                 135   \n",
       "20  2023-12-21                4700                                 120   \n",
       "21  2023-12-22                5600                                 130   \n",
       "22  2023-12-23                6200                                 115   \n",
       "23  2023-12-24                4900                                 125   \n",
       "24  2023-12-25                5100                                 135   \n",
       "25  2023-12-26                4600                                 120   \n",
       "26  2023-12-27                5400                                 130   \n",
       "27  2023-12-28                6100                                 115   \n",
       "28  2023-12-29                5000                                 125   \n",
       "\n",
       "    Bounce Rate (%)  Conversion Rate (%)  \n",
       "0                25                  2.0  \n",
       "1                22                  3.0  \n",
       "2                28                  1.5  \n",
       "3                20                  2.5  \n",
       "4                23                  2.0  \n",
       "5                25                  2.2  \n",
       "6                22                  2.8  \n",
       "7                28                  1.7  \n",
       "8                20                  2.7  \n",
       "9                23                  2.1  \n",
       "10               25                  2.3  \n",
       "11               22                  2.9  \n",
       "12               28                  1.8  \n",
       "13               20                  2.6  \n",
       "14               23                  2.2  \n",
       "15               25                  2.4  \n",
       "16               22                  2.7  \n",
       "17               28                  1.6  \n",
       "18               20                  2.5  \n",
       "19               23                  2.1  \n",
       "20               25                  2.3  \n",
       "21               22                  2.9  \n",
       "22               28                  1.8  \n",
       "23               20                  2.6  \n",
       "24               23                  2.2  \n",
       "25               25                  2.4  \n",
       "26               22                  2.7  \n",
       "27               28                  1.6  \n",
       "28               20                  2.5  "
      ]
     },
     "execution_count": 91,
     "metadata": {},
     "output_type": "execute_result"
    }
   ],
   "source": [
    "df= pd.read_csv(\"datasets//visitor-info.csv\")\n",
    "df"
   ]
  },
  {
   "cell_type": "code",
   "execution_count": 112,
   "id": "bc6712aa",
   "metadata": {},
   "outputs": [],
   "source": [
    "avg_no_visitor_per_day = df['Number of Visitors'].sum() / df.count()\n",
    "min_no_visitor_per_day = df['Number of Visitors'].min()\n",
    "max_no_visitor_per_day = df['Number of Visitors'].max()"
   ]
  },
  {
   "cell_type": "code",
   "execution_count": 113,
   "id": "03d936ef",
   "metadata": {},
   "outputs": [
    {
     "name": "stdout",
     "output_type": "stream",
     "text": [
      "Avg no. of Visitors per day:  5248.275862068966\n",
      "Min no. of Visitors per day:  4500\n",
      "Max no. of Visitors per day:  6200\n"
     ]
    }
   ],
   "source": [
    "print(\"Avg no. of Visitors per day: \", avg_no_visitor_per_day['Number of Visitors'])\n",
    "print(\"Min no. of Visitors per day: \", min_no_visitor_per_day)\n",
    "print(\"Max no. of Visitors per day: \", max_no_visitor_per_day)"
   ]
  },
  {
   "cell_type": "code",
   "execution_count": 122,
   "id": "b87ad6b5",
   "metadata": {},
   "outputs": [
    {
     "data": {
      "text/plain": [
       "array([[ 1.        , -0.81660505],\n",
       "       [-0.81660505,  1.        ]])"
      ]
     },
     "execution_count": 122,
     "metadata": {},
     "output_type": "execute_result"
    }
   ],
   "source": [
    "bounce_arr = np.array(df['Bounce Rate (%)'])\n",
    "conversion_arr = np.array(df['Conversion Rate (%)'])\n",
    "\n",
    "np.corrcoef(bounce_arr,conversion_arr)"
   ]
  },
  {
   "cell_type": "code",
   "execution_count": 123,
   "id": "accabaab",
   "metadata": {},
   "outputs": [
    {
     "name": "stdout",
     "output_type": "stream",
     "text": [
      "Bounce Rate and Conversion Rate have a negative co-relation of :  -0.8166050475362996\n"
     ]
    }
   ],
   "source": [
    "print(\"Bounce Rate and Conversion Rate have a negative co-relation of : \", np.corrcoef(bounce_arr,conversion_arr)[0][1])"
   ]
  },
  {
   "cell_type": "markdown",
   "id": "2ff2bb28",
   "metadata": {},
   "source": [
    "#### 5) Dataset: A CSV file purchase-info.csv \n",
    "#### Problem: Develop a Python program to calculate the average purchase amount for each category. Also, find the most frequent purchase category and the customer who made the most purchases."
   ]
  },
  {
   "cell_type": "code",
   "execution_count": 125,
   "id": "ed68cbad",
   "metadata": {},
   "outputs": [
    {
     "data": {
      "text/html": [
       "<div>\n",
       "<style scoped>\n",
       "    .dataframe tbody tr th:only-of-type {\n",
       "        vertical-align: middle;\n",
       "    }\n",
       "\n",
       "    .dataframe tbody tr th {\n",
       "        vertical-align: top;\n",
       "    }\n",
       "\n",
       "    .dataframe thead th {\n",
       "        text-align: right;\n",
       "    }\n",
       "</style>\n",
       "<table border=\"1\" class=\"dataframe\">\n",
       "  <thead>\n",
       "    <tr style=\"text-align: right;\">\n",
       "      <th></th>\n",
       "      <th>Customer ID</th>\n",
       "      <th>Purchase Amount</th>\n",
       "      <th>Purchase Date</th>\n",
       "      <th>Category</th>\n",
       "    </tr>\n",
       "  </thead>\n",
       "  <tbody>\n",
       "    <tr>\n",
       "      <th>0</th>\n",
       "      <td>1001</td>\n",
       "      <td>50</td>\n",
       "      <td>2023-12-01</td>\n",
       "      <td>Electronics</td>\n",
       "    </tr>\n",
       "    <tr>\n",
       "      <th>1</th>\n",
       "      <td>1002</td>\n",
       "      <td>25</td>\n",
       "      <td>2023-12-02</td>\n",
       "      <td>Clothing</td>\n",
       "    </tr>\n",
       "    <tr>\n",
       "      <th>2</th>\n",
       "      <td>1003</td>\n",
       "      <td>75</td>\n",
       "      <td>2023-12-03</td>\n",
       "      <td>Home Goods</td>\n",
       "    </tr>\n",
       "    <tr>\n",
       "      <th>3</th>\n",
       "      <td>1004</td>\n",
       "      <td>40</td>\n",
       "      <td>2023-12-04</td>\n",
       "      <td>Electronics</td>\n",
       "    </tr>\n",
       "    <tr>\n",
       "      <th>4</th>\n",
       "      <td>1005</td>\n",
       "      <td>30</td>\n",
       "      <td>2023-12-05</td>\n",
       "      <td>Clothing</td>\n",
       "    </tr>\n",
       "    <tr>\n",
       "      <th>5</th>\n",
       "      <td>1006</td>\n",
       "      <td>60</td>\n",
       "      <td>2023-12-06</td>\n",
       "      <td>Home Goods</td>\n",
       "    </tr>\n",
       "    <tr>\n",
       "      <th>6</th>\n",
       "      <td>1007</td>\n",
       "      <td>20</td>\n",
       "      <td>2023-12-07</td>\n",
       "      <td>Electronics</td>\n",
       "    </tr>\n",
       "    <tr>\n",
       "      <th>7</th>\n",
       "      <td>1008</td>\n",
       "      <td>55</td>\n",
       "      <td>2023-12-08</td>\n",
       "      <td>Clothing</td>\n",
       "    </tr>\n",
       "    <tr>\n",
       "      <th>8</th>\n",
       "      <td>1009</td>\n",
       "      <td>80</td>\n",
       "      <td>2023-12-09</td>\n",
       "      <td>Home Goods</td>\n",
       "    </tr>\n",
       "    <tr>\n",
       "      <th>9</th>\n",
       "      <td>1010</td>\n",
       "      <td>35</td>\n",
       "      <td>2023-12-10</td>\n",
       "      <td>Electronics</td>\n",
       "    </tr>\n",
       "    <tr>\n",
       "      <th>10</th>\n",
       "      <td>1011</td>\n",
       "      <td>28</td>\n",
       "      <td>2023-12-11</td>\n",
       "      <td>Clothing</td>\n",
       "    </tr>\n",
       "    <tr>\n",
       "      <th>11</th>\n",
       "      <td>1012</td>\n",
       "      <td>65</td>\n",
       "      <td>2023-12-12</td>\n",
       "      <td>Home Goods</td>\n",
       "    </tr>\n",
       "    <tr>\n",
       "      <th>12</th>\n",
       "      <td>1013</td>\n",
       "      <td>18</td>\n",
       "      <td>2023-12-13</td>\n",
       "      <td>Electronics</td>\n",
       "    </tr>\n",
       "    <tr>\n",
       "      <th>13</th>\n",
       "      <td>1014</td>\n",
       "      <td>52</td>\n",
       "      <td>2023-12-14</td>\n",
       "      <td>Clothing</td>\n",
       "    </tr>\n",
       "    <tr>\n",
       "      <th>14</th>\n",
       "      <td>1015</td>\n",
       "      <td>78</td>\n",
       "      <td>2023-12-15</td>\n",
       "      <td>Home Goods</td>\n",
       "    </tr>\n",
       "    <tr>\n",
       "      <th>15</th>\n",
       "      <td>1016</td>\n",
       "      <td>32</td>\n",
       "      <td>2023-12-16</td>\n",
       "      <td>Electronics</td>\n",
       "    </tr>\n",
       "    <tr>\n",
       "      <th>16</th>\n",
       "      <td>1017</td>\n",
       "      <td>26</td>\n",
       "      <td>2023-12-17</td>\n",
       "      <td>Clothing</td>\n",
       "    </tr>\n",
       "    <tr>\n",
       "      <th>17</th>\n",
       "      <td>1018</td>\n",
       "      <td>63</td>\n",
       "      <td>2023-12-18</td>\n",
       "      <td>Home Goods</td>\n",
       "    </tr>\n",
       "    <tr>\n",
       "      <th>18</th>\n",
       "      <td>1019</td>\n",
       "      <td>16</td>\n",
       "      <td>2023-12-19</td>\n",
       "      <td>Electronics</td>\n",
       "    </tr>\n",
       "    <tr>\n",
       "      <th>19</th>\n",
       "      <td>1020</td>\n",
       "      <td>54</td>\n",
       "      <td>2023-12-20</td>\n",
       "      <td>Clothing</td>\n",
       "    </tr>\n",
       "    <tr>\n",
       "      <th>20</th>\n",
       "      <td>1021</td>\n",
       "      <td>76</td>\n",
       "      <td>2023-12-21</td>\n",
       "      <td>Home Goods</td>\n",
       "    </tr>\n",
       "    <tr>\n",
       "      <th>21</th>\n",
       "      <td>1022</td>\n",
       "      <td>34</td>\n",
       "      <td>2023-12-22</td>\n",
       "      <td>Electronics</td>\n",
       "    </tr>\n",
       "    <tr>\n",
       "      <th>22</th>\n",
       "      <td>1023</td>\n",
       "      <td>27</td>\n",
       "      <td>2023-12-23</td>\n",
       "      <td>Clothing</td>\n",
       "    </tr>\n",
       "    <tr>\n",
       "      <th>23</th>\n",
       "      <td>1024</td>\n",
       "      <td>62</td>\n",
       "      <td>2023-12-24</td>\n",
       "      <td>Home Goods</td>\n",
       "    </tr>\n",
       "    <tr>\n",
       "      <th>24</th>\n",
       "      <td>1025</td>\n",
       "      <td>17</td>\n",
       "      <td>2023-12-25</td>\n",
       "      <td>Electronics</td>\n",
       "    </tr>\n",
       "    <tr>\n",
       "      <th>25</th>\n",
       "      <td>1026</td>\n",
       "      <td>53</td>\n",
       "      <td>2023-12-26</td>\n",
       "      <td>Clothing</td>\n",
       "    </tr>\n",
       "    <tr>\n",
       "      <th>26</th>\n",
       "      <td>1027</td>\n",
       "      <td>75</td>\n",
       "      <td>2023-12-27</td>\n",
       "      <td>Home Goods</td>\n",
       "    </tr>\n",
       "    <tr>\n",
       "      <th>27</th>\n",
       "      <td>1028</td>\n",
       "      <td>35</td>\n",
       "      <td>2023-12-28</td>\n",
       "      <td>Electronics</td>\n",
       "    </tr>\n",
       "    <tr>\n",
       "      <th>28</th>\n",
       "      <td>1029</td>\n",
       "      <td>28</td>\n",
       "      <td>2023-12-29</td>\n",
       "      <td>Clothing</td>\n",
       "    </tr>\n",
       "    <tr>\n",
       "      <th>29</th>\n",
       "      <td>1030</td>\n",
       "      <td>65</td>\n",
       "      <td>2023-12-30</td>\n",
       "      <td>Home Goods</td>\n",
       "    </tr>\n",
       "  </tbody>\n",
       "</table>\n",
       "</div>"
      ],
      "text/plain": [
       "    Customer ID  Purchase Amount Purchase Date     Category\n",
       "0          1001               50    2023-12-01  Electronics\n",
       "1          1002               25    2023-12-02     Clothing\n",
       "2          1003               75    2023-12-03   Home Goods\n",
       "3          1004               40    2023-12-04  Electronics\n",
       "4          1005               30    2023-12-05     Clothing\n",
       "5          1006               60    2023-12-06   Home Goods\n",
       "6          1007               20    2023-12-07  Electronics\n",
       "7          1008               55    2023-12-08     Clothing\n",
       "8          1009               80    2023-12-09   Home Goods\n",
       "9          1010               35    2023-12-10  Electronics\n",
       "10         1011               28    2023-12-11     Clothing\n",
       "11         1012               65    2023-12-12   Home Goods\n",
       "12         1013               18    2023-12-13  Electronics\n",
       "13         1014               52    2023-12-14     Clothing\n",
       "14         1015               78    2023-12-15   Home Goods\n",
       "15         1016               32    2023-12-16  Electronics\n",
       "16         1017               26    2023-12-17     Clothing\n",
       "17         1018               63    2023-12-18   Home Goods\n",
       "18         1019               16    2023-12-19  Electronics\n",
       "19         1020               54    2023-12-20     Clothing\n",
       "20         1021               76    2023-12-21   Home Goods\n",
       "21         1022               34    2023-12-22  Electronics\n",
       "22         1023               27    2023-12-23     Clothing\n",
       "23         1024               62    2023-12-24   Home Goods\n",
       "24         1025               17    2023-12-25  Electronics\n",
       "25         1026               53    2023-12-26     Clothing\n",
       "26         1027               75    2023-12-27   Home Goods\n",
       "27         1028               35    2023-12-28  Electronics\n",
       "28         1029               28    2023-12-29     Clothing\n",
       "29         1030               65    2023-12-30   Home Goods"
      ]
     },
     "execution_count": 125,
     "metadata": {},
     "output_type": "execute_result"
    }
   ],
   "source": [
    "df= pd.read_csv(\"datasets//purchase-info.csv\")\n",
    "df"
   ]
  },
  {
   "cell_type": "code",
   "execution_count": 148,
   "id": "32778ab3",
   "metadata": {},
   "outputs": [
    {
     "name": "stdout",
     "output_type": "stream",
     "text": [
      "The average purchase amount for each category:\n",
      " Category\n",
      "Clothing       378\n",
      "Electronics    297\n",
      "Home Goods     699\n",
      "Name: Purchase Amount, dtype: int64\n"
     ]
    }
   ],
   "source": [
    "avg_purchase_amount_category = df.groupby('Category')['Purchase Amount'].sum()\n",
    "\n",
    "print(\"The average purchase amount for each category:\\n\", avg_purchase_amount_category)"
   ]
  },
  {
   "cell_type": "code",
   "execution_count": 139,
   "id": "a2361435",
   "metadata": {},
   "outputs": [
    {
     "name": "stdout",
     "output_type": "stream",
     "text": [
      "Most Frequent purchase category : \n"
     ]
    },
    {
     "data": {
      "text/plain": [
       "Electronics    10\n",
       "Clothing       10\n",
       "Home Goods     10\n",
       "Name: Category, dtype: int64"
      ]
     },
     "execution_count": 139,
     "metadata": {},
     "output_type": "execute_result"
    }
   ],
   "source": [
    "print(\"Most Frequent purchase category : \")\n",
    "df['Category'].value_counts()"
   ]
  },
  {
   "cell_type": "code",
   "execution_count": 136,
   "id": "0e7ff47d",
   "metadata": {},
   "outputs": [
    {
     "name": "stdout",
     "output_type": "stream",
     "text": [
      "Customer who made most purchases : \n"
     ]
    },
    {
     "data": {
      "text/plain": [
       "1001    1\n",
       "1002    1\n",
       "1029    1\n",
       "1028    1\n",
       "1027    1\n",
       "1026    1\n",
       "1025    1\n",
       "1024    1\n",
       "1023    1\n",
       "1022    1\n",
       "1021    1\n",
       "1020    1\n",
       "1019    1\n",
       "1018    1\n",
       "1017    1\n",
       "1016    1\n",
       "1015    1\n",
       "1014    1\n",
       "1013    1\n",
       "1012    1\n",
       "1011    1\n",
       "1010    1\n",
       "1009    1\n",
       "1008    1\n",
       "1007    1\n",
       "1006    1\n",
       "1005    1\n",
       "1004    1\n",
       "1003    1\n",
       "1030    1\n",
       "Name: Customer ID, dtype: int64"
      ]
     },
     "execution_count": 136,
     "metadata": {},
     "output_type": "execute_result"
    }
   ],
   "source": [
    "print(\"Customer who made most purchases : \")\n",
    "df['Customer ID'].value_counts()"
   ]
  },
  {
   "cell_type": "code",
   "execution_count": null,
   "id": "bd614f3c",
   "metadata": {},
   "outputs": [],
   "source": []
  }
 ],
 "metadata": {
  "kernelspec": {
   "display_name": "Python 3 (ipykernel)",
   "language": "python",
   "name": "python3"
  },
  "language_info": {
   "codemirror_mode": {
    "name": "ipython",
    "version": 3
   },
   "file_extension": ".py",
   "mimetype": "text/x-python",
   "name": "python",
   "nbconvert_exporter": "python",
   "pygments_lexer": "ipython3",
   "version": "3.9.7"
  }
 },
 "nbformat": 4,
 "nbformat_minor": 5
}
